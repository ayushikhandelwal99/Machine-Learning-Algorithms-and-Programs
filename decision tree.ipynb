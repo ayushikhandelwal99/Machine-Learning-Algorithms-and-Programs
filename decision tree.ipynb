{
 "cells": [
  {
   "cell_type": "code",
   "execution_count": 2,
   "metadata": {},
   "outputs": [],
   "source": [
    "from sklearn.tree import DecisionTreeClassifier    # import Decision tree\n",
    "from sklearn.model_selection import train_test_split  #  for dividing data into train and test\n",
    "from sklearn.metrics import accuracy_score        # for calculating the accuracy_score\n",
    "from sklearn.datasets import load_diabetes        # predefined data"
   ]
  },
  {
   "cell_type": "code",
   "execution_count": 3,
   "metadata": {},
   "outputs": [],
   "source": [
    "diabetes = load_diabetes()     #storing the data in a variable diabetes"
   ]
  },
  {
   "cell_type": "code",
   "execution_count": 5,
   "metadata": {},
   "outputs": [
    {
     "data": {
      "text/plain": [
       "['DESCR',\n",
       " 'data',\n",
       " 'data_filename',\n",
       " 'feature_names',\n",
       " 'target',\n",
       " 'target_filename']"
      ]
     },
     "execution_count": 5,
     "metadata": {},
     "output_type": "execute_result"
    }
   ],
   "source": [
    "dir(diabetes)  # for description of diabetes variable"
   ]
  },
  {
   "cell_type": "code",
   "execution_count": 10,
   "metadata": {},
   "outputs": [
    {
     "data": {
      "text/plain": [
       "['age', 'sex', 'bmi', 'bp', 's1', 's2', 's3', 's4', 's5', 's6']"
      ]
     },
     "execution_count": 10,
     "metadata": {},
     "output_type": "execute_result"
    }
   ],
   "source": [
    "diabetes.feature_names       # to display the feature names"
   ]
  },
  {
   "cell_type": "code",
   "execution_count": 15,
   "metadata": {},
   "outputs": [],
   "source": [
    "features = diabetes.data     # to extract features and store them in a variable"
   ]
  },
  {
   "cell_type": "code",
   "execution_count": 16,
   "metadata": {},
   "outputs": [],
   "source": [
    "labels = diabetes.target     # extract labels/target and store them"
   ]
  },
  {
   "cell_type": "code",
   "execution_count": 17,
   "metadata": {},
   "outputs": [],
   "source": [
    "# Now split the data into training data and testing data\n",
    "feature_train,feature_test,label_train,label_test = train_test_split(features,labels,test_size=0.2)    # 0.2 means 20%"
   ]
  },
  {
   "cell_type": "code",
   "execution_count": 18,
   "metadata": {},
   "outputs": [],
   "source": [
    "#  now call classifier\n",
    "clf = DecisionTreeClassifier()"
   ]
  },
  {
   "cell_type": "code",
   "execution_count": 19,
   "metadata": {},
   "outputs": [],
   "source": [
    "#train the model by using fit()\n",
    "trained = clf.fit(feature_train,label_train)"
   ]
  },
  {
   "cell_type": "code",
   "execution_count": 20,
   "metadata": {},
   "outputs": [],
   "source": [
    "#now obtain the predicted label for testing features data\n",
    "predicted_label = trained.predict(feature_test)"
   ]
  },
  {
   "cell_type": "code",
   "execution_count": 22,
   "metadata": {},
   "outputs": [
    {
     "data": {
      "text/plain": [
       "array([ 48.,  84., 252., 214.,  66., 160., 101., 252.,  94.,  85.,  72.,\n",
       "       288., 261., 233.,  72., 109., 191., 142., 129.,  75., 115., 104.,\n",
       "        84., 137.,  57.,  87., 104., 144., 268., 215.,  77., 168., 225.,\n",
       "       150.,  84., 230., 257., 190., 242.,  91., 252., 116.,  49., 182.,\n",
       "        91., 214., 225., 185., 233., 220.,  50., 128., 288., 175., 279.,\n",
       "        96., 202., 262., 297.,  68., 104., 336., 145., 103.,  96.,  31.,\n",
       "        85., 178., 262., 310., 114., 152., 132., 292.,  60., 178., 144.,\n",
       "       257., 276., 259., 252., 113., 297., 252., 225.,  87., 249., 279.,\n",
       "       222.])"
      ]
     },
     "execution_count": 22,
     "metadata": {},
     "output_type": "execute_result"
    }
   ],
   "source": [
    "#print the predicted_label\n",
    "predicted_label"
   ]
  },
  {
   "cell_type": "code",
   "execution_count": 24,
   "metadata": {},
   "outputs": [
    {
     "data": {
      "text/plain": [
       "array([143.,  92., 232., 113.,  61., 127., 126.,  86.,  58.,  90.,  72.,\n",
       "        97., 246., 265.,  71., 200.,  81., 272., 121., 128.,  79., 118.,\n",
       "       148.,  68., 170.,  77., 129., 163., 317., 273.,  69.,  97., 220.,\n",
       "       131.,  90., 310., 230., 120., 208.,  66., 140., 101.,  95., 113.,\n",
       "       185., 151., 132.,  93., 217., 192.,  55., 134., 200.,  60., 264.,\n",
       "        59.,  85., 100., 248., 152., 177., 263., 127., 302.,  97., 259.,\n",
       "        74., 151.,  95., 265., 143., 163.,  55., 181., 246., 185., 275.,\n",
       "       109., 214., 245., 156.,  53., 139., 341., 141., 118., 295., 306.,\n",
       "       107.])"
      ]
     },
     "execution_count": 24,
     "metadata": {},
     "output_type": "execute_result"
    }
   ],
   "source": [
    "# print original output\n",
    "label_test"
   ]
  },
  {
   "cell_type": "code",
   "execution_count": 25,
   "metadata": {},
   "outputs": [
    {
     "data": {
      "text/plain": [
       "0.011235955056179775"
      ]
     },
     "execution_count": 25,
     "metadata": {},
     "output_type": "execute_result"
    }
   ],
   "source": [
    "# accuracy score\n",
    "accuracy_score(predicted_label,label_test)"
   ]
  },
  {
   "cell_type": "code",
   "execution_count": null,
   "metadata": {},
   "outputs": [],
   "source": []
  }
 ],
 "metadata": {
  "kernelspec": {
   "display_name": "Python 3",
   "language": "python",
   "name": "python3"
  },
  "language_info": {
   "codemirror_mode": {
    "name": "ipython",
    "version": 3
   },
   "file_extension": ".py",
   "mimetype": "text/x-python",
   "name": "python",
   "nbconvert_exporter": "python",
   "pygments_lexer": "ipython3",
   "version": "3.7.4"
  }
 },
 "nbformat": 4,
 "nbformat_minor": 2
}
